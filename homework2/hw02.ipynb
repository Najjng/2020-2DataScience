{
 "cells": [
  {
   "cell_type": "markdown",
   "metadata": {},
   "source": [
    "# Data Science Homework2\n",
    "## 2018-15185 김나경\n",
    "\n",
    "Used csv reader for problem 1-(a),(b),(c),(d) and pandas for numpy to compare using-numpy method and not-using-numpy method."
   ]
  },
  {
   "cell_type": "code",
   "execution_count": 1,
   "metadata": {
    "tags": []
   },
   "outputs": [
    {
     "name": "stdout",
     "output_type": "stream",
     "text": [
      "[{'year': '1969', 'month': '1', 'day': '1', 'gender': 'M', 'births': '4440'}\n",
      " {'year': '1969', 'month': '1', 'day': '2', 'gender': 'F', 'births': '4454'}\n",
      " {'year': '1969', 'month': '1', 'day': '2', 'gender': 'M', 'births': '4548'}\n",
      " ...\n",
      " {'year': '2008', 'month': '11', 'day': 'null', 'gender': 'M', 'births': '165468'}\n",
      " {'year': '2008', 'month': '12', 'day': 'null', 'gender': 'F', 'births': '173215'}\n",
      " {'year': '2008', 'month': '12', 'day': 'null', 'gender': 'M', 'births': '181235'}]\n"
     ]
    }
   ],
   "source": [
    "import numpy as np\n",
    "import csv\n",
    "\n",
    "birth_data = open(\"births.csv\")\n",
    "csv_reader = csv.DictReader(birth_data)\n",
    "line_count = 0\n",
    "\n",
    "for row in csv_reader:\n",
    "    if line_count == 0: \n",
    "        line_count += 1\n",
    "    elif line_count == 1:\n",
    "        birth_arr = np.array(row)\n",
    "        line_count +=1\n",
    "    else:\n",
    "        birth_arr = np.append(birth_arr, row)\n",
    "        line_count += 1\n",
    "        \n",
    "print(birth_arr) #show the birth_arr"
   ]
  },
  {
   "cell_type": "markdown",
   "metadata": {},
   "source": [
    "### Problem 1\n",
    "### (sorting) Sort the births data in an ascending order using the following methods and record the running time using %timeit.\n",
    "#### (a) Selection Sorting \n",
    "selection_sort function looks for the minimum value and when found, save it."
   ]
  },
  {
   "cell_type": "code",
   "execution_count": 2,
   "metadata": {
    "tags": []
   },
   "outputs": [
    {
     "name": "stdout",
     "output_type": "stream",
     "text": [
      "32.9 s ± 3.02 s per loop (mean ± std. dev. of 7 runs, 1 loop each)\n"
     ]
    }
   ],
   "source": [
    "def selection_sort(arr):\n",
    "    for i in range(len(arr) - 1):\n",
    "        min_idx = i\n",
    "        for j in range(i + 1, len(arr)):\n",
    "            if arr[j][\"births\"] < arr[min_idx][\"births\"]: #when new minimal value is found\n",
    "                min_idx = j #change the index for the minimum\n",
    "        arr[i], arr[min_idx] = arr[min_idx], arr[i] #swap the values\n",
    "        \n",
    "#measure time when operated with the given array\n",
    "%timeit selection_sort(birth_arr)"
   ]
  },
  {
   "cell_type": "markdown",
   "metadata": {},
   "source": [
    "#### (b) insertion sorting\n",
    "insertion_sort starts with second value(index 1) becuase this function compares the former values and next value."
   ]
  },
  {
   "cell_type": "code",
   "execution_count": 3,
   "metadata": {
    "tags": []
   },
   "outputs": [
    {
     "name": "stdout",
     "output_type": "stream",
     "text": [
      "41.3 s ± 7.88 s per loop (mean ± std. dev. of 7 runs, 1 loop each)\n"
     ]
    }
   ],
   "source": [
    "def insertion_sort(arr):\n",
    "    for end in range(1, len(arr)): #starts with second value\n",
    "        for i in range(end, 0, -1): #i starts from the end, in reverse\n",
    "            if arr[i - 1][\"births\"] > arr[i][\"births\"]: #when new maximal value is found\n",
    "                arr[i - 1], arr[i] = arr[i], arr[i - 1] #swap the values\n",
    "                \n",
    "#measure time when operated with the given array        \n",
    "%timeit insertion_sort(birth_arr)"
   ]
  },
  {
   "cell_type": "markdown",
   "metadata": {},
   "source": [
    "#### (c) merge sorting\n",
    "Merge sorting consists of dividing, conquering and combining. After dividing one array into two, the function compares every element of one array with the other and move it into a new list as a result of comparing."
   ]
  },
  {
   "cell_type": "code",
   "execution_count": 4,
   "metadata": {
    "tags": []
   },
   "outputs": [
    {
     "name": "stdout",
     "output_type": "stream",
     "text": [
      "80.5 ms ± 308 µs per loop (mean ± std. dev. of 7 runs, 10 loops each)\n"
     ]
    }
   ],
   "source": [
    "#separated merge and merge_sort for better efficiency\n",
    "#merge only compares given left and right lists or arrays with given comparing condition and merges it\n",
    "def merge(left, right, compare):\n",
    "    result = [] #an empty list for the output\n",
    "    i, j = 0, 0 #i is an index for left array and j is for right array\n",
    "    while i < len(left) and j < len(right):\n",
    "        if compare(left[i][\"births\"], right[j][\"births\"]):\n",
    "            result.append(left[i])\n",
    "            i += 1\n",
    "        else:\n",
    "            result.append(right[j])\n",
    "            j += 1\n",
    "    while i < len(left):\n",
    "        result.append(left[i])\n",
    "        i += 1\n",
    "    while j < len(right):\n",
    "        result.append(right[j])\n",
    "        j += 1\n",
    "    return result\n",
    "\n",
    "#merge_sort applies merge function for a whole array by dividing the given array by half\n",
    "def merge_sort(arr, compare = lambda x, y: x < y): \n",
    "    if len(arr) < 2:\n",
    "        return arr\n",
    "    else:\n",
    "        mid = len(arr) // 2 #divide an array into two\n",
    "        left_arr = merge_sort(arr[:mid], compare) #recursion\n",
    "        right_arr = merge_sort(arr[mid:], compare) #recursion\n",
    "    return merge(left_arr, right_arr, compare) #call merge function\n",
    "\n",
    "#measure time when operated with the given array   \n",
    "%timeit merge_sort(birth_arr)"
   ]
  },
  {
   "cell_type": "markdown",
   "metadata": {},
   "source": [
    "#### (d) bubble sorting\n",
    "Bubble sorting compares two adjacent elements and it's basically similar to selection sorting."
   ]
  },
  {
   "cell_type": "code",
   "execution_count": 5,
   "metadata": {
    "tags": []
   },
   "outputs": [
    {
     "name": "stdout",
     "output_type": "stream",
     "text": [
      "53.8 s ± 1.23 s per loop (mean ± std. dev. of 7 runs, 1 loop each)\n"
     ]
    }
   ],
   "source": [
    "def bubble_sort(arr):\n",
    "    for i in range(len(arr) - 1, 0, -1):\n",
    "        for j in range(i):\n",
    "            if arr[j][\"births\"] > arr[j + 1][\"births\"]: #when jth element is larger than j+1th value\n",
    "                arr[j], arr[j + 1] = arr[j + 1], arr[j] #swap\n",
    "                \n",
    "#measure time when operated with the given array\n",
    "%timeit bubble_sort(birth_arr)"
   ]
  },
  {
   "cell_type": "markdown",
   "metadata": {},
   "source": [
    "#### using np.argsort\n",
    "Made a new dataset with pandas and numpy.array. Then, using numpy.argsort, I sorted the given dataset by indices."
   ]
  },
  {
   "cell_type": "code",
   "execution_count": 6,
   "metadata": {
    "tags": []
   },
   "outputs": [
    {
     "name": "stdout",
     "output_type": "stream",
     "text": [
      "2.8 ms ± 134 µs per loop (mean ± std. dev. of 7 runs, 100 loops each)\n"
     ]
    }
   ],
   "source": [
    "import pandas as pd\n",
    "birth_data = pd.read_csv(\"births.csv\")\n",
    "births = np.array(birth_data['births'])\n",
    "sort_indices = np.argsort(births) #argsort returns indices of sorted list\n",
    "%timeit np.array(birth_data)[sort_indices]"
   ]
  },
  {
   "cell_type": "markdown",
   "metadata": {},
   "source": [
    "These are the results that came out on 27th, September on MacOs.\n",
    "selection sorting: 35.3 s ± 2.63 s per loop (mean ± std. dev. of 7 runs, 1 loop each)\n",
    "insertion sorting: 37.4 s ± 1.82 s per loop (mean ± std. dev. of 7 runs, 1 loop each)\n",
    "merge sorting: 78.6 ms ± 2.22 ms per loop (mean ± std. dev. of 7 runs, 10 loops each)\n",
    "bubble_sorting: 54.5 s ± 497 ms per loop (mean ± std. dev. of 7 runs, 1 loop each)\n",
    "numpy: 2.74 ms ± 335 µs per loop (mean ± std. dev. of 7 runs, 100 loops each)\n",
    "\n",
    "Measure time can be changed depending on various conditions. However, among first four sorting methods, merge sorting was the most efficient way of sorting when dealing with large data. It's not only because of the running time but also because of the algorithm complexity.\n",
    "\n",
    "First, the average algorithm complexity is n^2, n^2, n*logn, n^2 each. Merge sorting is faster than others.\n",
    "Second, selection sorting is unstable while others are stable. When saying stability, I looked at if the relative place of node with key is changed before and after running the program. In selectino sorting, the elements are really swapped, making the algorithm unstable while other sorting methods didn't show any changes.\n",
    "\n",
    "As a result, merge sorting is the most efficient sorting method among first four methods.\n",
    "\n",
    "However, using numpy was much faster than merge sorting.\n"
   ]
  },
  {
   "cell_type": "markdown",
   "metadata": {},
   "source": [
    "### Problem 2\n",
    "#### (a) Calculate the number of entries with births between 7000-10000 and find the indices of minimum, maximum values of this range."
   ]
  },
  {
   "cell_type": "code",
   "execution_count": 14,
   "metadata": {
    "tags": []
   },
   "outputs": [
    {
     "name": "stdout",
     "output_type": "stream",
     "text": [
      "the number of entries with births between 7000-10000:  5817\n"
     ]
    }
   ],
   "source": [
    "#the number of entries between two values \n",
    "in_range_indices = np.where((births>=5000) & (births<=10000))[0] #used np.where command to find indices\n",
    "#because np.where command returned a list of indices and that list was inside an array,\n",
    "#by using [0], in_range_indices only have a list of indices\n",
    "\n",
    "print(\"the number of entries with births between 7000-10000: \", len(in_range_indices))"
   ]
  },
  {
   "cell_type": "code",
   "execution_count": 15,
   "metadata": {
    "tags": []
   },
   "outputs": [
    {
     "data": {
      "text/plain": [
       "5000"
      ]
     },
     "execution_count": 15,
     "metadata": {},
     "output_type": "execute_result"
    }
   ],
   "source": [
    "#minimum values of the given range\n",
    "np.min(np.array(births[in_range_indices])) #array of births with in_range_indices"
   ]
  },
  {
   "cell_type": "code",
   "execution_count": 16,
   "metadata": {},
   "outputs": [
    {
     "data": {
      "text/plain": [
       "6527"
      ]
     },
     "execution_count": 16,
     "metadata": {},
     "output_type": "execute_result"
    }
   ],
   "source": [
    "#maximum values of the given range\n",
    "np.max(np.array(births[in_range_indices])) #array of births with in_range_indices"
   ]
  },
  {
   "cell_type": "markdown",
   "metadata": {},
   "source": [
    "#### (b) Select the data for May 20th of each year and create an array containing only those values."
   ]
  },
  {
   "cell_type": "code",
   "execution_count": 10,
   "metadata": {
    "tags": []
   },
   "outputs": [
    {
     "name": "stdout",
     "output_type": "stream",
     "text": [
      "       year  month   day gender  births\n",
      "3354   1973      5  20.0      F    3548\n",
      "3355   1973      5  20.0      M    3617\n",
      "7167   1978      5  20.0      F    3881\n",
      "2592   1972      5  20.0      F    3966\n",
      "7922   1979      5  20.0      F    3981\n",
      "11661  1984      5  20.0      F    4024\n",
      "2593   1972      5  20.0      M    4066\n",
      "5646   1976      5  20.0      F    4081\n",
      "7923   1979      5  20.0      M    4100\n",
      "4119   1974      5  20.0      F    4183\n",
      "7168   1978      5  20.0      M    4197\n",
      "11662  1984      5  20.0      M    4258\n",
      "5647   1976      5  20.0      M    4333\n",
      "4120   1974      5  20.0      M    4610\n",
      "4884   1975      5  20.0      F    4655\n",
      "1827   1971      5  20.0      F    4658\n",
      "6404   1977      5  20.0      F    4717\n",
      "6405   1977      5  20.0      M    4737\n",
      "4885   1975      5  20.0      M    4899\n",
      "1828   1971      5  20.0      M    4910\n",
      "1062   1970      5  20.0      F    4950\n",
      "10163  1982      5  20.0      F    5024\n",
      "9415   1981      5  20.0      F    5029\n",
      "294    1969      5  20.0      F    5034\n",
      "9416   1981      5  20.0      M    5057\n",
      "1063   1970      5  20.0      M    5094\n",
      "10912  1983      5  20.0      F    5129\n",
      "8671   1980      5  20.0      F    5186\n",
      "12405  1985      5  20.0      F    5297\n",
      "295    1969      5  20.0      M    5354\n",
      "10164  1982      5  20.0      M    5376\n",
      "10913  1983      5  20.0      M    5384\n",
      "8672   1980      5  20.0      M    5385\n",
      "13139  1986      5  20.0      F    5403\n",
      "13876  1987      5  20.0      F    5415\n",
      "14611  1988      5  20.0      F    5559\n",
      "12406  1985      5  20.0      M    5658\n",
      "13877  1987      5  20.0      M    5811\n",
      "13140  1986      5  20.0      M    5818\n",
      "14612  1988      5  20.0      M    5893\n"
     ]
    }
   ],
   "source": [
    "#birth_df is a data set with the data for May 20th births\n",
    "birth_df = pd.DataFrame(birth_data[(birth_data.month == 5) & (birth_data.day == 20)])\n",
    "sorted_df = birth_df.sort_values('births') #align entries in ascending order\n",
    "print(sorted_df) #show the data set"
   ]
  },
  {
   "cell_type": "code",
   "execution_count": 11,
   "metadata": {},
   "outputs": [
    {
     "data": {
      "text/plain": [
       "year      1969\n",
       "month        5\n",
       "day         20\n",
       "gender       F\n",
       "births    3548\n",
       "dtype: object"
      ]
     },
     "execution_count": 11,
     "metadata": {},
     "output_type": "execute_result"
    }
   ],
   "source": [
    "#minimum value of 5/20 births\n",
    "np.min(sorted_df)"
   ]
  },
  {
   "cell_type": "code",
   "execution_count": 12,
   "metadata": {},
   "outputs": [
    {
     "data": {
      "text/plain": [
       "year      1988\n",
       "month        5\n",
       "day         20\n",
       "gender       M\n",
       "births    5893\n",
       "dtype: object"
      ]
     },
     "execution_count": 12,
     "metadata": {},
     "output_type": "execute_result"
    }
   ],
   "source": [
    "#maximum value of 5/20 births\n",
    "np.max(sorted_df)"
   ]
  },
  {
   "cell_type": "markdown",
   "metadata": {},
   "source": [
    "### Problem 3\n",
    "#### Draw a histogram of births."
   ]
  },
  {
   "cell_type": "code",
   "execution_count": 13,
   "metadata": {},
   "outputs": [
    {
     "data": {
      "text/plain": [
       "Text(0, 0.5, 'number')"
      ]
     },
     "execution_count": 13,
     "metadata": {},
     "output_type": "execute_result"
    },
    {
     "data": {
      "image/png": "[encoded data removed]",
      "text/plain": [
       "<Figure size 432x288 with 1 Axes>"
      ]
     },
     "metadata": {},
     "output_type": "display_data"
    }
   ],
   "source": [
    "#to draw histograms\n",
    "%matplotlib inline\n",
    "import matplotlib.pyplot as plt\n",
    "import seaborn; seaborn.set()\n",
    "plt.hist(births, bins = 75) #set bins as 75 for better visualization\n",
    "plt.title('Birth Distribution')\n",
    "plt.xlabel('Births(person)')\n",
    "plt.ylabel('number')"
   ]
  },
  {
   "cell_type": "markdown",
   "metadata": {},
   "source": [
    "Drawing with the Numy Routines and matplotlib is easier and more efficient compared to drawing it by hand. But for better visualization, it's important to realize features of data in order to decide proper density, bins, colors of histogram. (or other visualization method)"
   ]
  }
 ],
 "metadata": {
  "kernelspec": {
   "display_name": "Python 3",
   "language": "python",
   "name": "python3"
  },
  "language_info": {
   "codemirror_mode": {
    "name": "ipython",
    "version": 3
   },
   "file_extension": ".py",
   "mimetype": "text/x-python",
   "name": "python",
   "nbconvert_exporter": "python",
   "pygments_lexer": "ipython3",
   "version": "3.8.3"
  }
 },
 "nbformat": 4,
 "nbformat_minor": 4
}
